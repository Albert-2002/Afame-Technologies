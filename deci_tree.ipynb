{
 "cells": [
  {
   "cell_type": "code",
   "execution_count": 1,
   "metadata": {},
   "outputs": [],
   "source": [
    "import pandas as pd"
   ]
  },
  {
   "cell_type": "code",
   "execution_count": 2,
   "metadata": {},
   "outputs": [
    {
     "name": "stdout",
     "output_type": "stream",
     "text": [
      "<class 'pandas.core.frame.DataFrame'>\n",
      "RangeIndex: 1852394 entries, 0 to 1852393\n",
      "Data columns (total 19 columns):\n",
      " #   Column      Dtype  \n",
      "---  ------      -----  \n",
      " 0   merchant    float64\n",
      " 1   category    int64  \n",
      " 2   amt         float64\n",
      " 3   gender      int64  \n",
      " 4   street      float64\n",
      " 5   city        float64\n",
      " 6   state       int64  \n",
      " 7   zip         int64  \n",
      " 8   lat         float64\n",
      " 9   long        float64\n",
      " 10  city_pop    int64  \n",
      " 11  job         float64\n",
      " 12  merch_lat   float64\n",
      " 13  merch_long  float64\n",
      " 14  is_fraud    int64  \n",
      " 15  DOB_Year    int64  \n",
      " 16  DOB_Month   int64  \n",
      " 17  trns_Month  int64  \n",
      " 18  trns_Hour   int64  \n",
      "dtypes: float64(9), int64(10)\n",
      "memory usage: 268.5 MB\n"
     ]
    }
   ],
   "source": [
    "df = pd.read_csv('c:/Users/91959/Desktop/aftech/clean_fraudCombined.csv')\n",
    "df.info()"
   ]
  },
  {
   "cell_type": "code",
   "execution_count": null,
   "metadata": {},
   "outputs": [],
   "source": []
  },
  {
   "cell_type": "code",
   "execution_count": null,
   "metadata": {},
   "outputs": [],
   "source": []
  },
  {
   "cell_type": "code",
   "execution_count": null,
   "metadata": {},
   "outputs": [],
   "source": []
  }
 ],
 "metadata": {
  "kernelspec": {
   "display_name": "Python 3",
   "language": "python",
   "name": "python3"
  },
  "language_info": {
   "codemirror_mode": {
    "name": "ipython",
    "version": 3
   },
   "file_extension": ".py",
   "mimetype": "text/x-python",
   "name": "python",
   "nbconvert_exporter": "python",
   "pygments_lexer": "ipython3",
   "version": "3.12.0"
  }
 },
 "nbformat": 4,
 "nbformat_minor": 2
}
