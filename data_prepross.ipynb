{
 "cells": [
  {
   "cell_type": "code",
   "execution_count": 1,
   "metadata": {},
   "outputs": [],
   "source": [
    "import pandas as pd\n",
    "\n",
    "from sklearn.preprocessing import LabelEncoder"
   ]
  },
  {
   "cell_type": "code",
   "execution_count": 2,
   "metadata": {},
   "outputs": [],
   "source": [
    "pd.set_option('display.float_format', lambda x: '%.5f' % x)\n",
    "#pd.reset_option('display.float_format')"
   ]
  },
  {
   "cell_type": "code",
   "execution_count": 3,
   "metadata": {},
   "outputs": [
    {
     "data": {
      "text/html": [
       "<div>\n",
       "<style scoped>\n",
       "    .dataframe tbody tr th:only-of-type {\n",
       "        vertical-align: middle;\n",
       "    }\n",
       "\n",
       "    .dataframe tbody tr th {\n",
       "        vertical-align: top;\n",
       "    }\n",
       "\n",
       "    .dataframe thead th {\n",
       "        text-align: right;\n",
       "    }\n",
       "</style>\n",
       "<table border=\"1\" class=\"dataframe\">\n",
       "  <thead>\n",
       "    <tr style=\"text-align: right;\">\n",
       "      <th></th>\n",
       "      <th>Unnamed: 0</th>\n",
       "      <th>trans_date_trans_time</th>\n",
       "      <th>cc_num</th>\n",
       "      <th>merchant</th>\n",
       "      <th>category</th>\n",
       "      <th>amt</th>\n",
       "      <th>first</th>\n",
       "      <th>last</th>\n",
       "      <th>gender</th>\n",
       "      <th>street</th>\n",
       "      <th>...</th>\n",
       "      <th>lat</th>\n",
       "      <th>long</th>\n",
       "      <th>city_pop</th>\n",
       "      <th>job</th>\n",
       "      <th>dob</th>\n",
       "      <th>trans_num</th>\n",
       "      <th>unix_time</th>\n",
       "      <th>merch_lat</th>\n",
       "      <th>merch_long</th>\n",
       "      <th>is_fraud</th>\n",
       "    </tr>\n",
       "  </thead>\n",
       "  <tbody>\n",
       "    <tr>\n",
       "      <th>0</th>\n",
       "      <td>0</td>\n",
       "      <td>2020-06-21 12:14:25</td>\n",
       "      <td>2291163933867244</td>\n",
       "      <td>fraud_Kirlin and Sons</td>\n",
       "      <td>personal_care</td>\n",
       "      <td>2.86000</td>\n",
       "      <td>Jeff</td>\n",
       "      <td>Elliott</td>\n",
       "      <td>M</td>\n",
       "      <td>351 Darlene Green</td>\n",
       "      <td>...</td>\n",
       "      <td>33.96590</td>\n",
       "      <td>-80.93550</td>\n",
       "      <td>333497</td>\n",
       "      <td>Mechanical engineer</td>\n",
       "      <td>1968-03-19</td>\n",
       "      <td>2da90c7d74bd46a0caf3777415b3ebd3</td>\n",
       "      <td>1371816865</td>\n",
       "      <td>33.98639</td>\n",
       "      <td>-81.20071</td>\n",
       "      <td>0</td>\n",
       "    </tr>\n",
       "    <tr>\n",
       "      <th>1</th>\n",
       "      <td>1</td>\n",
       "      <td>2020-06-21 12:14:33</td>\n",
       "      <td>3573030041201292</td>\n",
       "      <td>fraud_Sporer-Keebler</td>\n",
       "      <td>personal_care</td>\n",
       "      <td>29.84000</td>\n",
       "      <td>Joanne</td>\n",
       "      <td>Williams</td>\n",
       "      <td>F</td>\n",
       "      <td>3638 Marsh Union</td>\n",
       "      <td>...</td>\n",
       "      <td>40.32070</td>\n",
       "      <td>-110.43600</td>\n",
       "      <td>302</td>\n",
       "      <td>Sales professional, IT</td>\n",
       "      <td>1990-01-17</td>\n",
       "      <td>324cc204407e99f51b0d6ca0055005e7</td>\n",
       "      <td>1371816873</td>\n",
       "      <td>39.45050</td>\n",
       "      <td>-109.96043</td>\n",
       "      <td>0</td>\n",
       "    </tr>\n",
       "  </tbody>\n",
       "</table>\n",
       "<p>2 rows × 23 columns</p>\n",
       "</div>"
      ],
      "text/plain": [
       "   Unnamed: 0 trans_date_trans_time            cc_num               merchant  \\\n",
       "0           0   2020-06-21 12:14:25  2291163933867244  fraud_Kirlin and Sons   \n",
       "1           1   2020-06-21 12:14:33  3573030041201292   fraud_Sporer-Keebler   \n",
       "\n",
       "        category      amt   first      last gender             street  ...  \\\n",
       "0  personal_care  2.86000    Jeff   Elliott      M  351 Darlene Green  ...   \n",
       "1  personal_care 29.84000  Joanne  Williams      F   3638 Marsh Union  ...   \n",
       "\n",
       "       lat       long  city_pop                     job         dob  \\\n",
       "0 33.96590  -80.93550    333497     Mechanical engineer  1968-03-19   \n",
       "1 40.32070 -110.43600       302  Sales professional, IT  1990-01-17   \n",
       "\n",
       "                          trans_num   unix_time merch_lat merch_long  is_fraud  \n",
       "0  2da90c7d74bd46a0caf3777415b3ebd3  1371816865  33.98639  -81.20071         0  \n",
       "1  324cc204407e99f51b0d6ca0055005e7  1371816873  39.45050 -109.96043         0  \n",
       "\n",
       "[2 rows x 23 columns]"
      ]
     },
     "execution_count": 3,
     "metadata": {},
     "output_type": "execute_result"
    }
   ],
   "source": [
    "#df = pd.read_csv(\"c:/Users/91959/Desktop/aftech/fraudTrain.csv\")\n",
    "df = pd.read_csv(\"c:/Users/91959/Desktop/aftech/fraudTest.csv\")\n",
    "df.head(2)"
   ]
  },
  {
   "cell_type": "code",
   "execution_count": 4,
   "metadata": {},
   "outputs": [
    {
     "data": {
      "text/plain": [
       "Index(['Unnamed: 0', 'trans_date_trans_time', 'cc_num', 'merchant', 'category',\n",
       "       'amt', 'first', 'last', 'gender', 'street', 'city', 'state', 'zip',\n",
       "       'lat', 'long', 'city_pop', 'job', 'dob', 'trans_num', 'unix_time',\n",
       "       'merch_lat', 'merch_long', 'is_fraud'],\n",
       "      dtype='object')"
      ]
     },
     "execution_count": 4,
     "metadata": {},
     "output_type": "execute_result"
    }
   ],
   "source": [
    "df.columns"
   ]
  },
  {
   "cell_type": "code",
   "execution_count": 5,
   "metadata": {},
   "outputs": [
    {
     "data": {
      "text/plain": [
       "23"
      ]
     },
     "execution_count": 5,
     "metadata": {},
     "output_type": "execute_result"
    }
   ],
   "source": [
    "len(df.columns)"
   ]
  },
  {
   "cell_type": "code",
   "execution_count": 6,
   "metadata": {},
   "outputs": [],
   "source": [
    "df.drop(df.columns[0], axis=1, inplace=True)"
   ]
  },
  {
   "cell_type": "code",
   "execution_count": 7,
   "metadata": {},
   "outputs": [],
   "source": [
    "df['gender'] = df['gender'].astype(\"category\")\n",
    "df['is_fraud'] = df['is_fraud'].astype(\"category\")\n",
    "df['category'] = df['category'].astype(\"category\")\n",
    "df['state'] = df['state'].astype(\"category\")     "
   ]
  },
  {
   "cell_type": "code",
   "execution_count": 8,
   "metadata": {},
   "outputs": [
    {
     "data": {
      "text/plain": [
       "is_fraud\n",
       "0    553574\n",
       "1      2145\n",
       "Name: count, dtype: int64"
      ]
     },
     "execution_count": 8,
     "metadata": {},
     "output_type": "execute_result"
    }
   ],
   "source": [
    "df['is_fraud'].value_counts()"
   ]
  },
  {
   "cell_type": "code",
   "execution_count": 9,
   "metadata": {},
   "outputs": [],
   "source": [
    "df.drop_duplicates(inplace=True)"
   ]
  },
  {
   "cell_type": "code",
   "execution_count": 10,
   "metadata": {},
   "outputs": [
    {
     "data": {
      "text/plain": [
       "(555719, 22)"
      ]
     },
     "execution_count": 10,
     "metadata": {},
     "output_type": "execute_result"
    }
   ],
   "source": [
    "df.shape"
   ]
  },
  {
   "cell_type": "code",
   "execution_count": 11,
   "metadata": {},
   "outputs": [],
   "source": [
    "df[\"trans_date_trans_time\"] = pd.to_datetime(df[\"trans_date_trans_time\"])\n",
    "df[\"dob\"] = pd.to_datetime(df[\"dob\"])"
   ]
  },
  {
   "cell_type": "code",
   "execution_count": 12,
   "metadata": {},
   "outputs": [],
   "source": [
    "df.drop(columns=['first','last','trans_num','cc_num','dob','unix_time'],inplace=True)"
   ]
  },
  {
   "cell_type": "code",
   "execution_count": 13,
   "metadata": {},
   "outputs": [],
   "source": [
    "df.drop(columns=['trans_date_trans_time'],inplace=True)"
   ]
  },
  {
   "cell_type": "code",
   "execution_count": 14,
   "metadata": {},
   "outputs": [
    {
     "data": {
      "text/plain": [
       "merchant         693\n",
       "category          14\n",
       "amt            37256\n",
       "gender             2\n",
       "street           924\n",
       "city             849\n",
       "state             50\n",
       "zip              912\n",
       "lat              910\n",
       "long             910\n",
       "city_pop         835\n",
       "job              478\n",
       "merch_lat     546490\n",
       "merch_long    551770\n",
       "is_fraud           2\n",
       "dtype: int64"
      ]
     },
     "execution_count": 14,
     "metadata": {},
     "output_type": "execute_result"
    }
   ],
   "source": [
    "df.nunique()"
   ]
  },
  {
   "cell_type": "code",
   "execution_count": 15,
   "metadata": {},
   "outputs": [],
   "source": [
    "df.rename(columns={\"amt\":\"amount(USD)\"},inplace=True)"
   ]
  },
  {
   "cell_type": "code",
   "execution_count": 16,
   "metadata": {},
   "outputs": [],
   "source": [
    "# preprocessing.LabelEncoder() - Encode target labels with value between 0 and n_classes-1.\n",
    "# preprocessing.OneHotEncoder(*[, categories, ...]) - Encode categorical features as a one-hot numeric array.\n",
    "# preprocessing.OrdinalEncoder(*[, ...]) - Encode categorical features as an integer array.\n",
    "# preprocessing.TargetEncoder([categories, ...]) - Target Encoder for regression and classification targets."
   ]
  },
  {
   "cell_type": "code",
   "execution_count": 17,
   "metadata": {},
   "outputs": [],
   "source": [
    "encoder = LabelEncoder()\n",
    "df[\"gender\"] = encoder.fit_transform(df[\"gender\"])\n",
    "df[\"is_fraud\"] = encoder.fit_transform(df[\"is_fraud\"])\n",
    "df[\"category\"] = encoder.fit_transform(df[\"category\"])\n",
    "df[\"state\"] = encoder.fit_transform(df[\"state\"])"
   ]
  },
  {
   "cell_type": "code",
   "execution_count": 18,
   "metadata": {},
   "outputs": [
    {
     "data": {
      "text/html": [
       "<div>\n",
       "<style scoped>\n",
       "    .dataframe tbody tr th:only-of-type {\n",
       "        vertical-align: middle;\n",
       "    }\n",
       "\n",
       "    .dataframe tbody tr th {\n",
       "        vertical-align: top;\n",
       "    }\n",
       "\n",
       "    .dataframe thead th {\n",
       "        text-align: right;\n",
       "    }\n",
       "</style>\n",
       "<table border=\"1\" class=\"dataframe\">\n",
       "  <thead>\n",
       "    <tr style=\"text-align: right;\">\n",
       "      <th></th>\n",
       "      <th>merchant</th>\n",
       "      <th>category</th>\n",
       "      <th>amount(USD)</th>\n",
       "      <th>gender</th>\n",
       "      <th>street</th>\n",
       "      <th>city</th>\n",
       "      <th>state</th>\n",
       "      <th>zip</th>\n",
       "      <th>lat</th>\n",
       "      <th>long</th>\n",
       "      <th>city_pop</th>\n",
       "      <th>job</th>\n",
       "      <th>merch_lat</th>\n",
       "      <th>merch_long</th>\n",
       "      <th>is_fraud</th>\n",
       "    </tr>\n",
       "  </thead>\n",
       "  <tbody>\n",
       "    <tr>\n",
       "      <th>0</th>\n",
       "      <td>fraud_Kirlin and Sons</td>\n",
       "      <td>10</td>\n",
       "      <td>2.86000</td>\n",
       "      <td>1</td>\n",
       "      <td>351 Darlene Green</td>\n",
       "      <td>Columbia</td>\n",
       "      <td>39</td>\n",
       "      <td>29209</td>\n",
       "      <td>33.96590</td>\n",
       "      <td>-80.93550</td>\n",
       "      <td>333497</td>\n",
       "      <td>Mechanical engineer</td>\n",
       "      <td>33.98639</td>\n",
       "      <td>-81.20071</td>\n",
       "      <td>0</td>\n",
       "    </tr>\n",
       "    <tr>\n",
       "      <th>1</th>\n",
       "      <td>fraud_Sporer-Keebler</td>\n",
       "      <td>10</td>\n",
       "      <td>29.84000</td>\n",
       "      <td>0</td>\n",
       "      <td>3638 Marsh Union</td>\n",
       "      <td>Altonah</td>\n",
       "      <td>43</td>\n",
       "      <td>84002</td>\n",
       "      <td>40.32070</td>\n",
       "      <td>-110.43600</td>\n",
       "      <td>302</td>\n",
       "      <td>Sales professional, IT</td>\n",
       "      <td>39.45050</td>\n",
       "      <td>-109.96043</td>\n",
       "      <td>0</td>\n",
       "    </tr>\n",
       "  </tbody>\n",
       "</table>\n",
       "</div>"
      ],
      "text/plain": [
       "                merchant  category  amount(USD)  gender             street  \\\n",
       "0  fraud_Kirlin and Sons        10      2.86000       1  351 Darlene Green   \n",
       "1   fraud_Sporer-Keebler        10     29.84000       0   3638 Marsh Union   \n",
       "\n",
       "       city  state    zip      lat       long  city_pop  \\\n",
       "0  Columbia     39  29209 33.96590  -80.93550    333497   \n",
       "1   Altonah     43  84002 40.32070 -110.43600       302   \n",
       "\n",
       "                      job  merch_lat  merch_long  is_fraud  \n",
       "0     Mechanical engineer   33.98639   -81.20071         0  \n",
       "1  Sales professional, IT   39.45050  -109.96043         0  "
      ]
     },
     "execution_count": 18,
     "metadata": {},
     "output_type": "execute_result"
    }
   ],
   "source": [
    "df.head(2)"
   ]
  },
  {
   "cell_type": "code",
   "execution_count": 19,
   "metadata": {},
   "outputs": [
    {
     "name": "stdout",
     "output_type": "stream",
     "text": [
      "<class 'pandas.core.frame.DataFrame'>\n",
      "RangeIndex: 555719 entries, 0 to 555718\n",
      "Data columns (total 15 columns):\n",
      " #   Column       Non-Null Count   Dtype  \n",
      "---  ------       --------------   -----  \n",
      " 0   merchant     555719 non-null  object \n",
      " 1   category     555719 non-null  int32  \n",
      " 2   amount(USD)  555719 non-null  float64\n",
      " 3   gender       555719 non-null  int32  \n",
      " 4   street       555719 non-null  object \n",
      " 5   city         555719 non-null  object \n",
      " 6   state        555719 non-null  int32  \n",
      " 7   zip          555719 non-null  int64  \n",
      " 8   lat          555719 non-null  float64\n",
      " 9   long         555719 non-null  float64\n",
      " 10  city_pop     555719 non-null  int64  \n",
      " 11  job          555719 non-null  object \n",
      " 12  merch_lat    555719 non-null  float64\n",
      " 13  merch_long   555719 non-null  float64\n",
      " 14  is_fraud     555719 non-null  int64  \n",
      "dtypes: float64(5), int32(3), int64(3), object(4)\n",
      "memory usage: 57.2+ MB\n"
     ]
    }
   ],
   "source": [
    "df.info()"
   ]
  },
  {
   "cell_type": "code",
   "execution_count": 20,
   "metadata": {},
   "outputs": [
    {
     "data": {
      "text/plain": [
       "merchant          693\n",
       "category           14\n",
       "amount(USD)     37256\n",
       "gender              2\n",
       "street            924\n",
       "city              849\n",
       "state              50\n",
       "zip               912\n",
       "lat               910\n",
       "long              910\n",
       "city_pop          835\n",
       "job               478\n",
       "merch_lat      546490\n",
       "merch_long     551770\n",
       "is_fraud            2\n",
       "dtype: int64"
      ]
     },
     "execution_count": 20,
     "metadata": {},
     "output_type": "execute_result"
    }
   ],
   "source": [
    "df.nunique()"
   ]
  },
  {
   "cell_type": "code",
   "execution_count": 21,
   "metadata": {},
   "outputs": [],
   "source": [
    "# merchant, street, city, job\n",
    "from category_encoders import TargetEncoder\n",
    "\n",
    "target_encoder = TargetEncoder()\n",
    "\n",
    "df[\"merchant\"] = target_encoder.fit_transform(df[\"merchant\"],df[\"is_fraud\"])\n",
    "df[\"street\"] = target_encoder.fit_transform(df[\"street\"],df[\"is_fraud\"])\n",
    "df[\"city\"] = target_encoder.fit_transform(df[\"city\"],df[\"is_fraud\"])\n",
    "df[\"job\"] = target_encoder.fit_transform(df[\"job\"],df[\"is_fraud\"])"
   ]
  },
  {
   "cell_type": "code",
   "execution_count": 22,
   "metadata": {},
   "outputs": [
    {
     "name": "stdout",
     "output_type": "stream",
     "text": [
      "<class 'pandas.core.frame.DataFrame'>\n",
      "RangeIndex: 555719 entries, 0 to 555718\n",
      "Data columns (total 15 columns):\n",
      " #   Column       Non-Null Count   Dtype  \n",
      "---  ------       --------------   -----  \n",
      " 0   merchant     555719 non-null  float64\n",
      " 1   category     555719 non-null  int32  \n",
      " 2   amount(USD)  555719 non-null  float64\n",
      " 3   gender       555719 non-null  int32  \n",
      " 4   street       555719 non-null  float64\n",
      " 5   city         555719 non-null  float64\n",
      " 6   state        555719 non-null  int32  \n",
      " 7   zip          555719 non-null  int64  \n",
      " 8   lat          555719 non-null  float64\n",
      " 9   long         555719 non-null  float64\n",
      " 10  city_pop     555719 non-null  int64  \n",
      " 11  job          555719 non-null  float64\n",
      " 12  merch_lat    555719 non-null  float64\n",
      " 13  merch_long   555719 non-null  float64\n",
      " 14  is_fraud     555719 non-null  int64  \n",
      "dtypes: float64(9), int32(3), int64(3)\n",
      "memory usage: 57.2 MB\n"
     ]
    }
   ],
   "source": [
    "df.info()"
   ]
  },
  {
   "cell_type": "code",
   "execution_count": 23,
   "metadata": {},
   "outputs": [],
   "source": [
    "# df.to_csv('clean_fraudTrain.csv', index=False)\n",
    "# df.to_csv('clean_fraudTest.csv', index=False)"
   ]
  },
  {
   "cell_type": "code",
   "execution_count": null,
   "metadata": {},
   "outputs": [],
   "source": []
  }
 ],
 "metadata": {
  "kernelspec": {
   "display_name": "Python 3",
   "language": "python",
   "name": "python3"
  },
  "language_info": {
   "codemirror_mode": {
    "name": "ipython",
    "version": 3
   },
   "file_extension": ".py",
   "mimetype": "text/x-python",
   "name": "python",
   "nbconvert_exporter": "python",
   "pygments_lexer": "ipython3",
   "version": "3.12.0"
  }
 },
 "nbformat": 4,
 "nbformat_minor": 2
}
