{
 "cells": [
  {
   "cell_type": "code",
   "execution_count": 27,
   "metadata": {},
   "outputs": [],
   "source": [
    "import numpy as np\n",
    "import pandas as pd\n",
    "import seaborn as sns\n",
    "import plotly.express as px\n",
    "from matplotlib import pyplot as plt\n",
    "from sklearn.model_selection import cross_val_score\n",
    "\n",
    "from sklearn import metrics\n",
    "from sklearn.preprocessing import LabelEncoder, OneHotEncoder, OrdinalEncoder\n",
    "from collections import Counter\n",
    "from datetime import datetime"
   ]
  },
  {
   "cell_type": "code",
   "execution_count": 2,
   "metadata": {},
   "outputs": [],
   "source": [
    "pd.set_option('display.float_format', lambda x: '%.5f' % x)\n",
    "#pd.reset_option('display.float_format')"
   ]
  },
  {
   "cell_type": "code",
   "execution_count": 3,
   "metadata": {},
   "outputs": [
    {
     "data": {
      "text/html": [
       "<div>\n",
       "<style scoped>\n",
       "    .dataframe tbody tr th:only-of-type {\n",
       "        vertical-align: middle;\n",
       "    }\n",
       "\n",
       "    .dataframe tbody tr th {\n",
       "        vertical-align: top;\n",
       "    }\n",
       "\n",
       "    .dataframe thead th {\n",
       "        text-align: right;\n",
       "    }\n",
       "</style>\n",
       "<table border=\"1\" class=\"dataframe\">\n",
       "  <thead>\n",
       "    <tr style=\"text-align: right;\">\n",
       "      <th></th>\n",
       "      <th>Unnamed: 0</th>\n",
       "      <th>trans_date_trans_time</th>\n",
       "      <th>cc_num</th>\n",
       "      <th>merchant</th>\n",
       "      <th>category</th>\n",
       "      <th>amt</th>\n",
       "      <th>first</th>\n",
       "      <th>last</th>\n",
       "      <th>gender</th>\n",
       "      <th>street</th>\n",
       "      <th>...</th>\n",
       "      <th>lat</th>\n",
       "      <th>long</th>\n",
       "      <th>city_pop</th>\n",
       "      <th>job</th>\n",
       "      <th>dob</th>\n",
       "      <th>trans_num</th>\n",
       "      <th>unix_time</th>\n",
       "      <th>merch_lat</th>\n",
       "      <th>merch_long</th>\n",
       "      <th>is_fraud</th>\n",
       "    </tr>\n",
       "  </thead>\n",
       "  <tbody>\n",
       "    <tr>\n",
       "      <th>0</th>\n",
       "      <td>0</td>\n",
       "      <td>2019-01-01 00:00:18</td>\n",
       "      <td>2703186189652095</td>\n",
       "      <td>fraud_Rippin, Kub and Mann</td>\n",
       "      <td>misc_net</td>\n",
       "      <td>4.97000</td>\n",
       "      <td>Jennifer</td>\n",
       "      <td>Banks</td>\n",
       "      <td>F</td>\n",
       "      <td>561 Perry Cove</td>\n",
       "      <td>...</td>\n",
       "      <td>36.07880</td>\n",
       "      <td>-81.17810</td>\n",
       "      <td>3495</td>\n",
       "      <td>Psychologist, counselling</td>\n",
       "      <td>1988-03-09</td>\n",
       "      <td>0b242abb623afc578575680df30655b9</td>\n",
       "      <td>1325376018</td>\n",
       "      <td>36.01129</td>\n",
       "      <td>-82.04832</td>\n",
       "      <td>0</td>\n",
       "    </tr>\n",
       "    <tr>\n",
       "      <th>1</th>\n",
       "      <td>1</td>\n",
       "      <td>2019-01-01 00:00:44</td>\n",
       "      <td>630423337322</td>\n",
       "      <td>fraud_Heller, Gutmann and Zieme</td>\n",
       "      <td>grocery_pos</td>\n",
       "      <td>107.23000</td>\n",
       "      <td>Stephanie</td>\n",
       "      <td>Gill</td>\n",
       "      <td>F</td>\n",
       "      <td>43039 Riley Greens Suite 393</td>\n",
       "      <td>...</td>\n",
       "      <td>48.88780</td>\n",
       "      <td>-118.21050</td>\n",
       "      <td>149</td>\n",
       "      <td>Special educational needs teacher</td>\n",
       "      <td>1978-06-21</td>\n",
       "      <td>1f76529f8574734946361c461b024d99</td>\n",
       "      <td>1325376044</td>\n",
       "      <td>49.15905</td>\n",
       "      <td>-118.18646</td>\n",
       "      <td>0</td>\n",
       "    </tr>\n",
       "  </tbody>\n",
       "</table>\n",
       "<p>2 rows × 23 columns</p>\n",
       "</div>"
      ],
      "text/plain": [
       "   Unnamed: 0 trans_date_trans_time            cc_num  \\\n",
       "0           0   2019-01-01 00:00:18  2703186189652095   \n",
       "1           1   2019-01-01 00:00:44      630423337322   \n",
       "\n",
       "                          merchant     category       amt      first   last  \\\n",
       "0       fraud_Rippin, Kub and Mann     misc_net   4.97000   Jennifer  Banks   \n",
       "1  fraud_Heller, Gutmann and Zieme  grocery_pos 107.23000  Stephanie   Gill   \n",
       "\n",
       "  gender                        street  ...      lat       long  city_pop  \\\n",
       "0      F                561 Perry Cove  ... 36.07880  -81.17810      3495   \n",
       "1      F  43039 Riley Greens Suite 393  ... 48.88780 -118.21050       149   \n",
       "\n",
       "                                 job         dob  \\\n",
       "0          Psychologist, counselling  1988-03-09   \n",
       "1  Special educational needs teacher  1978-06-21   \n",
       "\n",
       "                          trans_num   unix_time merch_lat merch_long  is_fraud  \n",
       "0  0b242abb623afc578575680df30655b9  1325376018  36.01129  -82.04832         0  \n",
       "1  1f76529f8574734946361c461b024d99  1325376044  49.15905 -118.18646         0  \n",
       "\n",
       "[2 rows x 23 columns]"
      ]
     },
     "execution_count": 3,
     "metadata": {},
     "output_type": "execute_result"
    }
   ],
   "source": [
    "df = pd.read_csv(\"c:/Users/91959/Desktop/aftech/fraudTrain.csv\")\n",
    "df.head(2)"
   ]
  },
  {
   "cell_type": "code",
   "execution_count": 4,
   "metadata": {},
   "outputs": [
    {
     "data": {
      "text/plain": [
       "Index(['Unnamed: 0', 'trans_date_trans_time', 'cc_num', 'merchant', 'category',\n",
       "       'amt', 'first', 'last', 'gender', 'street', 'city', 'state', 'zip',\n",
       "       'lat', 'long', 'city_pop', 'job', 'dob', 'trans_num', 'unix_time',\n",
       "       'merch_lat', 'merch_long', 'is_fraud'],\n",
       "      dtype='object')"
      ]
     },
     "execution_count": 4,
     "metadata": {},
     "output_type": "execute_result"
    }
   ],
   "source": [
    "df.columns"
   ]
  },
  {
   "cell_type": "code",
   "execution_count": 5,
   "metadata": {},
   "outputs": [
    {
     "data": {
      "text/plain": [
       "23"
      ]
     },
     "execution_count": 5,
     "metadata": {},
     "output_type": "execute_result"
    }
   ],
   "source": [
    "len(df.columns)"
   ]
  },
  {
   "cell_type": "code",
   "execution_count": 6,
   "metadata": {},
   "outputs": [],
   "source": [
    "df.drop(df.columns[0], axis=1, inplace=True)"
   ]
  },
  {
   "cell_type": "code",
   "execution_count": 8,
   "metadata": {},
   "outputs": [],
   "source": [
    "df['gender'] = df['gender'].astype(\"category\")\n",
    "df['is_fraud'] = df['is_fraud'].astype(\"category\")\n",
    "df['category'] = df['category'].astype(\"category\")\n",
    "df['state'] = df['state'].astype(\"category\")     "
   ]
  },
  {
   "cell_type": "code",
   "execution_count": 9,
   "metadata": {},
   "outputs": [
    {
     "data": {
      "text/plain": [
       "is_fraud\n",
       "0    1289169\n",
       "1       7506\n",
       "Name: count, dtype: int64"
      ]
     },
     "execution_count": 9,
     "metadata": {},
     "output_type": "execute_result"
    }
   ],
   "source": [
    "df['is_fraud'].value_counts()"
   ]
  },
  {
   "cell_type": "code",
   "execution_count": 10,
   "metadata": {},
   "outputs": [],
   "source": [
    "df.drop_duplicates(inplace=True)"
   ]
  },
  {
   "cell_type": "code",
   "execution_count": 11,
   "metadata": {},
   "outputs": [
    {
     "data": {
      "text/plain": [
       "(1296675, 22)"
      ]
     },
     "execution_count": 11,
     "metadata": {},
     "output_type": "execute_result"
    }
   ],
   "source": [
    "df.shape"
   ]
  },
  {
   "cell_type": "code",
   "execution_count": 12,
   "metadata": {},
   "outputs": [],
   "source": [
    "df[\"trans_date_trans_time\"] = pd.to_datetime(df[\"trans_date_trans_time\"])\n",
    "df[\"dob\"] = pd.to_datetime(df[\"dob\"])"
   ]
  },
  {
   "cell_type": "code",
   "execution_count": 14,
   "metadata": {},
   "outputs": [],
   "source": [
    "df.drop(columns=['first','last','trans_num','cc_num','dob','unix_time'],inplace=True)"
   ]
  },
  {
   "cell_type": "code",
   "execution_count": 16,
   "metadata": {},
   "outputs": [],
   "source": [
    "df.drop(columns=['trans_date_trans_time'],inplace=True)"
   ]
  },
  {
   "cell_type": "code",
   "execution_count": 18,
   "metadata": {},
   "outputs": [
    {
     "data": {
      "text/plain": [
       "merchant          693\n",
       "category           14\n",
       "amt             52928\n",
       "gender              2\n",
       "street            983\n",
       "city              894\n",
       "state              51\n",
       "zip               970\n",
       "lat               968\n",
       "long              969\n",
       "city_pop          879\n",
       "job               494\n",
       "merch_lat     1247805\n",
       "merch_long    1275745\n",
       "is_fraud            2\n",
       "dtype: int64"
      ]
     },
     "execution_count": 18,
     "metadata": {},
     "output_type": "execute_result"
    }
   ],
   "source": [
    "df.nunique()"
   ]
  },
  {
   "cell_type": "code",
   "execution_count": 19,
   "metadata": {},
   "outputs": [],
   "source": [
    "df.rename(columns={\"amt\":\"amount(USD)\"},inplace=True)"
   ]
  },
  {
   "cell_type": "code",
   "execution_count": 20,
   "metadata": {},
   "outputs": [],
   "source": [
    "# preprocessing.LabelEncoder() - Encode target labels with value between 0 and n_classes-1.\n",
    "# preprocessing.OneHotEncoder(*[, categories, ...]) - Encode categorical features as a one-hot numeric array.\n",
    "# preprocessing.OrdinalEncoder(*[, ...]) - Encode categorical features as an integer array.\n",
    "# preprocessing.TargetEncoder([categories, ...]) - Target Encoder for regression and classification targets."
   ]
  },
  {
   "cell_type": "code",
   "execution_count": 21,
   "metadata": {},
   "outputs": [],
   "source": [
    "encoder = LabelEncoder()\n",
    "df[\"gender\"] = encoder.fit_transform(df[\"gender\"])\n",
    "df[\"is_fraud\"] = encoder.fit_transform(df[\"is_fraud\"])\n",
    "df[\"category\"] = encoder.fit_transform(df[\"category\"])\n",
    "df[\"state\"] = encoder.fit_transform(df[\"state\"])"
   ]
  },
  {
   "cell_type": "code",
   "execution_count": 22,
   "metadata": {},
   "outputs": [
    {
     "data": {
      "text/html": [
       "<div>\n",
       "<style scoped>\n",
       "    .dataframe tbody tr th:only-of-type {\n",
       "        vertical-align: middle;\n",
       "    }\n",
       "\n",
       "    .dataframe tbody tr th {\n",
       "        vertical-align: top;\n",
       "    }\n",
       "\n",
       "    .dataframe thead th {\n",
       "        text-align: right;\n",
       "    }\n",
       "</style>\n",
       "<table border=\"1\" class=\"dataframe\">\n",
       "  <thead>\n",
       "    <tr style=\"text-align: right;\">\n",
       "      <th></th>\n",
       "      <th>merchant</th>\n",
       "      <th>category</th>\n",
       "      <th>amount(USD)</th>\n",
       "      <th>gender</th>\n",
       "      <th>street</th>\n",
       "      <th>city</th>\n",
       "      <th>state</th>\n",
       "      <th>zip</th>\n",
       "      <th>lat</th>\n",
       "      <th>long</th>\n",
       "      <th>city_pop</th>\n",
       "      <th>job</th>\n",
       "      <th>merch_lat</th>\n",
       "      <th>merch_long</th>\n",
       "      <th>is_fraud</th>\n",
       "    </tr>\n",
       "  </thead>\n",
       "  <tbody>\n",
       "    <tr>\n",
       "      <th>0</th>\n",
       "      <td>fraud_Rippin, Kub and Mann</td>\n",
       "      <td>8</td>\n",
       "      <td>4.97000</td>\n",
       "      <td>0</td>\n",
       "      <td>561 Perry Cove</td>\n",
       "      <td>Moravian Falls</td>\n",
       "      <td>27</td>\n",
       "      <td>28654</td>\n",
       "      <td>36.07880</td>\n",
       "      <td>-81.17810</td>\n",
       "      <td>3495</td>\n",
       "      <td>Psychologist, counselling</td>\n",
       "      <td>36.01129</td>\n",
       "      <td>-82.04832</td>\n",
       "      <td>0</td>\n",
       "    </tr>\n",
       "    <tr>\n",
       "      <th>1</th>\n",
       "      <td>fraud_Heller, Gutmann and Zieme</td>\n",
       "      <td>4</td>\n",
       "      <td>107.23000</td>\n",
       "      <td>0</td>\n",
       "      <td>43039 Riley Greens Suite 393</td>\n",
       "      <td>Orient</td>\n",
       "      <td>47</td>\n",
       "      <td>99160</td>\n",
       "      <td>48.88780</td>\n",
       "      <td>-118.21050</td>\n",
       "      <td>149</td>\n",
       "      <td>Special educational needs teacher</td>\n",
       "      <td>49.15905</td>\n",
       "      <td>-118.18646</td>\n",
       "      <td>0</td>\n",
       "    </tr>\n",
       "  </tbody>\n",
       "</table>\n",
       "</div>"
      ],
      "text/plain": [
       "                          merchant  category  amount(USD)  gender  \\\n",
       "0       fraud_Rippin, Kub and Mann         8      4.97000       0   \n",
       "1  fraud_Heller, Gutmann and Zieme         4    107.23000       0   \n",
       "\n",
       "                         street            city  state    zip      lat  \\\n",
       "0                561 Perry Cove  Moravian Falls     27  28654 36.07880   \n",
       "1  43039 Riley Greens Suite 393          Orient     47  99160 48.88780   \n",
       "\n",
       "        long  city_pop                                job  merch_lat  \\\n",
       "0  -81.17810      3495          Psychologist, counselling   36.01129   \n",
       "1 -118.21050       149  Special educational needs teacher   49.15905   \n",
       "\n",
       "   merch_long  is_fraud  \n",
       "0   -82.04832         0  \n",
       "1  -118.18646         0  "
      ]
     },
     "execution_count": 22,
     "metadata": {},
     "output_type": "execute_result"
    }
   ],
   "source": [
    "df.head(2)"
   ]
  },
  {
   "cell_type": "code",
   "execution_count": 24,
   "metadata": {},
   "outputs": [
    {
     "name": "stdout",
     "output_type": "stream",
     "text": [
      "<class 'pandas.core.frame.DataFrame'>\n",
      "RangeIndex: 1296675 entries, 0 to 1296674\n",
      "Data columns (total 15 columns):\n",
      " #   Column       Non-Null Count    Dtype  \n",
      "---  ------       --------------    -----  \n",
      " 0   merchant     1296675 non-null  object \n",
      " 1   category     1296675 non-null  int32  \n",
      " 2   amount(USD)  1296675 non-null  float64\n",
      " 3   gender       1296675 non-null  int32  \n",
      " 4   street       1296675 non-null  object \n",
      " 5   city         1296675 non-null  object \n",
      " 6   state        1296675 non-null  int32  \n",
      " 7   zip          1296675 non-null  int64  \n",
      " 8   lat          1296675 non-null  float64\n",
      " 9   long         1296675 non-null  float64\n",
      " 10  city_pop     1296675 non-null  int64  \n",
      " 11  job          1296675 non-null  object \n",
      " 12  merch_lat    1296675 non-null  float64\n",
      " 13  merch_long   1296675 non-null  float64\n",
      " 14  is_fraud     1296675 non-null  int64  \n",
      "dtypes: float64(5), int32(3), int64(3), object(4)\n",
      "memory usage: 133.6+ MB\n"
     ]
    }
   ],
   "source": [
    "df.info()"
   ]
  },
  {
   "cell_type": "code",
   "execution_count": 25,
   "metadata": {},
   "outputs": [
    {
     "data": {
      "text/plain": [
       "merchant           693\n",
       "category            14\n",
       "amount(USD)      52928\n",
       "gender               2\n",
       "street             983\n",
       "city               894\n",
       "state               51\n",
       "zip                970\n",
       "lat                968\n",
       "long               969\n",
       "city_pop           879\n",
       "job                494\n",
       "merch_lat      1247805\n",
       "merch_long     1275745\n",
       "is_fraud             2\n",
       "dtype: int64"
      ]
     },
     "execution_count": 25,
     "metadata": {},
     "output_type": "execute_result"
    }
   ],
   "source": [
    "df.nunique()"
   ]
  },
  {
   "cell_type": "code",
   "execution_count": 28,
   "metadata": {},
   "outputs": [],
   "source": [
    "# merchant, street, city, job\n",
    "from category_encoders import TargetEncoder\n",
    "\n",
    "target_encoder = TargetEncoder()\n",
    "\n",
    "df[\"merchant\"] = target_encoder.fit_transform(df[\"merchant\"],df[\"is_fraud\"])\n",
    "df[\"street\"] = target_encoder.fit_transform(df[\"street\"],df[\"is_fraud\"])\n",
    "df[\"city\"] = target_encoder.fit_transform(df[\"city\"],df[\"is_fraud\"])\n",
    "df[\"job\"] = target_encoder.fit_transform(df[\"job\"],df[\"is_fraud\"])"
   ]
  },
  {
   "cell_type": "code",
   "execution_count": 29,
   "metadata": {},
   "outputs": [
    {
     "name": "stdout",
     "output_type": "stream",
     "text": [
      "<class 'pandas.core.frame.DataFrame'>\n",
      "RangeIndex: 1296675 entries, 0 to 1296674\n",
      "Data columns (total 15 columns):\n",
      " #   Column       Non-Null Count    Dtype  \n",
      "---  ------       --------------    -----  \n",
      " 0   merchant     1296675 non-null  float64\n",
      " 1   category     1296675 non-null  int32  \n",
      " 2   amount(USD)  1296675 non-null  float64\n",
      " 3   gender       1296675 non-null  int32  \n",
      " 4   street       1296675 non-null  float64\n",
      " 5   city         1296675 non-null  float64\n",
      " 6   state        1296675 non-null  int32  \n",
      " 7   zip          1296675 non-null  int64  \n",
      " 8   lat          1296675 non-null  float64\n",
      " 9   long         1296675 non-null  float64\n",
      " 10  city_pop     1296675 non-null  int64  \n",
      " 11  job          1296675 non-null  float64\n",
      " 12  merch_lat    1296675 non-null  float64\n",
      " 13  merch_long   1296675 non-null  float64\n",
      " 14  is_fraud     1296675 non-null  int64  \n",
      "dtypes: float64(9), int32(3), int64(3)\n",
      "memory usage: 133.6 MB\n"
     ]
    }
   ],
   "source": [
    "df.info()"
   ]
  },
  {
   "cell_type": "code",
   "execution_count": null,
   "metadata": {},
   "outputs": [],
   "source": []
  },
  {
   "cell_type": "code",
   "execution_count": null,
   "metadata": {},
   "outputs": [],
   "source": []
  }
 ],
 "metadata": {
  "kernelspec": {
   "display_name": "Python 3",
   "language": "python",
   "name": "python3"
  },
  "language_info": {
   "codemirror_mode": {
    "name": "ipython",
    "version": 3
   },
   "file_extension": ".py",
   "mimetype": "text/x-python",
   "name": "python",
   "nbconvert_exporter": "python",
   "pygments_lexer": "ipython3",
   "version": "3.12.0"
  }
 },
 "nbformat": 4,
 "nbformat_minor": 2
}
