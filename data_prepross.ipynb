{
 "cells": [
  {
   "cell_type": "code",
   "execution_count": 1,
   "metadata": {},
   "outputs": [],
   "source": [
    "import pandas as pd\n",
    "import numpy as np\n",
    "import matplotlib.pyplot as plt\n",
    "from datetime import datetime"
   ]
  },
  {
   "cell_type": "code",
   "execution_count": 2,
   "metadata": {},
   "outputs": [],
   "source": [
    "pd.set_option('display.float_format', lambda x: '%.5f' % x)\n",
    "#pd.reset_option('display.float_format')"
   ]
  },
  {
   "cell_type": "code",
   "execution_count": 3,
   "metadata": {},
   "outputs": [
    {
     "data": {
      "text/html": [
       "<div>\n",
       "<style scoped>\n",
       "    .dataframe tbody tr th:only-of-type {\n",
       "        vertical-align: middle;\n",
       "    }\n",
       "\n",
       "    .dataframe tbody tr th {\n",
       "        vertical-align: top;\n",
       "    }\n",
       "\n",
       "    .dataframe thead th {\n",
       "        text-align: right;\n",
       "    }\n",
       "</style>\n",
       "<table border=\"1\" class=\"dataframe\">\n",
       "  <thead>\n",
       "    <tr style=\"text-align: right;\">\n",
       "      <th></th>\n",
       "      <th>Unnamed: 0</th>\n",
       "      <th>trans_date_trans_time</th>\n",
       "      <th>cc_num</th>\n",
       "      <th>merchant</th>\n",
       "      <th>category</th>\n",
       "      <th>amt</th>\n",
       "      <th>first</th>\n",
       "      <th>last</th>\n",
       "      <th>gender</th>\n",
       "      <th>street</th>\n",
       "      <th>...</th>\n",
       "      <th>lat</th>\n",
       "      <th>long</th>\n",
       "      <th>city_pop</th>\n",
       "      <th>job</th>\n",
       "      <th>dob</th>\n",
       "      <th>trans_num</th>\n",
       "      <th>unix_time</th>\n",
       "      <th>merch_lat</th>\n",
       "      <th>merch_long</th>\n",
       "      <th>is_fraud</th>\n",
       "    </tr>\n",
       "  </thead>\n",
       "  <tbody>\n",
       "    <tr>\n",
       "      <th>0</th>\n",
       "      <td>0</td>\n",
       "      <td>2019-01-01 00:00:18</td>\n",
       "      <td>2703186189652095</td>\n",
       "      <td>fraud_Rippin, Kub and Mann</td>\n",
       "      <td>misc_net</td>\n",
       "      <td>4.97000</td>\n",
       "      <td>Jennifer</td>\n",
       "      <td>Banks</td>\n",
       "      <td>F</td>\n",
       "      <td>561 Perry Cove</td>\n",
       "      <td>...</td>\n",
       "      <td>36.07880</td>\n",
       "      <td>-81.17810</td>\n",
       "      <td>3495</td>\n",
       "      <td>Psychologist, counselling</td>\n",
       "      <td>1988-03-09</td>\n",
       "      <td>0b242abb623afc578575680df30655b9</td>\n",
       "      <td>1325376018</td>\n",
       "      <td>36.01129</td>\n",
       "      <td>-82.04832</td>\n",
       "      <td>0</td>\n",
       "    </tr>\n",
       "    <tr>\n",
       "      <th>1</th>\n",
       "      <td>1</td>\n",
       "      <td>2019-01-01 00:00:44</td>\n",
       "      <td>630423337322</td>\n",
       "      <td>fraud_Heller, Gutmann and Zieme</td>\n",
       "      <td>grocery_pos</td>\n",
       "      <td>107.23000</td>\n",
       "      <td>Stephanie</td>\n",
       "      <td>Gill</td>\n",
       "      <td>F</td>\n",
       "      <td>43039 Riley Greens Suite 393</td>\n",
       "      <td>...</td>\n",
       "      <td>48.88780</td>\n",
       "      <td>-118.21050</td>\n",
       "      <td>149</td>\n",
       "      <td>Special educational needs teacher</td>\n",
       "      <td>1978-06-21</td>\n",
       "      <td>1f76529f8574734946361c461b024d99</td>\n",
       "      <td>1325376044</td>\n",
       "      <td>49.15905</td>\n",
       "      <td>-118.18646</td>\n",
       "      <td>0</td>\n",
       "    </tr>\n",
       "  </tbody>\n",
       "</table>\n",
       "<p>2 rows × 23 columns</p>\n",
       "</div>"
      ],
      "text/plain": [
       "   Unnamed: 0 trans_date_trans_time            cc_num  \\\n",
       "0           0   2019-01-01 00:00:18  2703186189652095   \n",
       "1           1   2019-01-01 00:00:44      630423337322   \n",
       "\n",
       "                          merchant     category       amt      first   last  \\\n",
       "0       fraud_Rippin, Kub and Mann     misc_net   4.97000   Jennifer  Banks   \n",
       "1  fraud_Heller, Gutmann and Zieme  grocery_pos 107.23000  Stephanie   Gill   \n",
       "\n",
       "  gender                        street  ...      lat       long  city_pop  \\\n",
       "0      F                561 Perry Cove  ... 36.07880  -81.17810      3495   \n",
       "1      F  43039 Riley Greens Suite 393  ... 48.88780 -118.21050       149   \n",
       "\n",
       "                                 job         dob  \\\n",
       "0          Psychologist, counselling  1988-03-09   \n",
       "1  Special educational needs teacher  1978-06-21   \n",
       "\n",
       "                          trans_num   unix_time merch_lat merch_long  is_fraud  \n",
       "0  0b242abb623afc578575680df30655b9  1325376018  36.01129  -82.04832         0  \n",
       "1  1f76529f8574734946361c461b024d99  1325376044  49.15905 -118.18646         0  \n",
       "\n",
       "[2 rows x 23 columns]"
      ]
     },
     "execution_count": 3,
     "metadata": {},
     "output_type": "execute_result"
    }
   ],
   "source": [
    "df = pd.read_csv(\"dataset/fraudTrain.csv\")\n",
    "df.head(2)"
   ]
  },
  {
   "cell_type": "code",
   "execution_count": 4,
   "metadata": {},
   "outputs": [
    {
     "data": {
      "text/plain": [
       "Index(['Unnamed: 0', 'trans_date_trans_time', 'cc_num', 'merchant', 'category',\n",
       "       'amt', 'first', 'last', 'gender', 'street', 'city', 'state', 'zip',\n",
       "       'lat', 'long', 'city_pop', 'job', 'dob', 'trans_num', 'unix_time',\n",
       "       'merch_lat', 'merch_long', 'is_fraud'],\n",
       "      dtype='object')"
      ]
     },
     "execution_count": 4,
     "metadata": {},
     "output_type": "execute_result"
    }
   ],
   "source": [
    "df.columns"
   ]
  },
  {
   "cell_type": "code",
   "execution_count": 5,
   "metadata": {},
   "outputs": [
    {
     "data": {
      "text/plain": [
       "23"
      ]
     },
     "execution_count": 5,
     "metadata": {},
     "output_type": "execute_result"
    }
   ],
   "source": [
    "len(df.columns)"
   ]
  },
  {
   "cell_type": "code",
   "execution_count": 6,
   "metadata": {},
   "outputs": [
    {
     "name": "stdout",
     "output_type": "stream",
     "text": [
      "<class 'pandas.core.frame.DataFrame'>\n",
      "RangeIndex: 1296675 entries, 0 to 1296674\n",
      "Data columns (total 23 columns):\n",
      " #   Column                 Non-Null Count    Dtype  \n",
      "---  ------                 --------------    -----  \n",
      " 0   Unnamed: 0             1296675 non-null  int64  \n",
      " 1   trans_date_trans_time  1296675 non-null  object \n",
      " 2   cc_num                 1296675 non-null  int64  \n",
      " 3   merchant               1296675 non-null  object \n",
      " 4   category               1296675 non-null  object \n",
      " 5   amt                    1296675 non-null  float64\n",
      " 6   first                  1296675 non-null  object \n",
      " 7   last                   1296675 non-null  object \n",
      " 8   gender                 1296675 non-null  object \n",
      " 9   street                 1296675 non-null  object \n",
      " 10  city                   1296675 non-null  object \n",
      " 11  state                  1296675 non-null  object \n",
      " 12  zip                    1296675 non-null  int64  \n",
      " 13  lat                    1296675 non-null  float64\n",
      " 14  long                   1296675 non-null  float64\n",
      " 15  city_pop               1296675 non-null  int64  \n",
      " 16  job                    1296675 non-null  object \n",
      " 17  dob                    1296675 non-null  object \n",
      " 18  trans_num              1296675 non-null  object \n",
      " 19  unix_time              1296675 non-null  int64  \n",
      " 20  merch_lat              1296675 non-null  float64\n",
      " 21  merch_long             1296675 non-null  float64\n",
      " 22  is_fraud               1296675 non-null  int64  \n",
      "dtypes: float64(5), int64(6), object(12)\n",
      "memory usage: 227.5+ MB\n"
     ]
    }
   ],
   "source": [
    "df.info()"
   ]
  },
  {
   "cell_type": "code",
   "execution_count": 7,
   "metadata": {},
   "outputs": [],
   "source": [
    "df.drop(df.columns[0], axis=1, inplace=True)"
   ]
  },
  {
   "cell_type": "code",
   "execution_count": 8,
   "metadata": {},
   "outputs": [
    {
     "data": {
      "text/plain": [
       "trans_date_trans_time    0\n",
       "cc_num                   0\n",
       "merchant                 0\n",
       "category                 0\n",
       "amt                      0\n",
       "first                    0\n",
       "last                     0\n",
       "gender                   0\n",
       "street                   0\n",
       "city                     0\n",
       "state                    0\n",
       "zip                      0\n",
       "lat                      0\n",
       "long                     0\n",
       "city_pop                 0\n",
       "job                      0\n",
       "dob                      0\n",
       "trans_num                0\n",
       "unix_time                0\n",
       "merch_lat                0\n",
       "merch_long               0\n",
       "is_fraud                 0\n",
       "dtype: int64"
      ]
     },
     "execution_count": 8,
     "metadata": {},
     "output_type": "execute_result"
    }
   ],
   "source": [
    "df.isnull().sum()"
   ]
  },
  {
   "cell_type": "code",
   "execution_count": 9,
   "metadata": {},
   "outputs": [
    {
     "data": {
      "text/plain": [
       "trans_date_trans_time    1274791\n",
       "cc_num                       983\n",
       "merchant                     693\n",
       "category                      14\n",
       "amt                        52928\n",
       "first                        352\n",
       "last                         481\n",
       "gender                         2\n",
       "street                       983\n",
       "city                         894\n",
       "state                         51\n",
       "zip                          970\n",
       "lat                          968\n",
       "long                         969\n",
       "city_pop                     879\n",
       "job                          494\n",
       "dob                          968\n",
       "trans_num                1296675\n",
       "unix_time                1274823\n",
       "merch_lat                1247805\n",
       "merch_long               1275745\n",
       "is_fraud                       2\n",
       "dtype: int64"
      ]
     },
     "execution_count": 9,
     "metadata": {},
     "output_type": "execute_result"
    }
   ],
   "source": [
    "df.nunique()"
   ]
  },
  {
   "cell_type": "code",
   "execution_count": 10,
   "metadata": {},
   "outputs": [],
   "source": [
    "df['gender'] = df['gender'].astype(\"category\")\n",
    "df['is_fraud'] = df['is_fraud'].astype(\"category\")\n",
    "df['category'] = df['category'].astype(\"category\")\n",
    "df['state'] = df['state'].astype(\"category\")     "
   ]
  },
  {
   "cell_type": "code",
   "execution_count": 11,
   "metadata": {},
   "outputs": [
    {
     "name": "stdout",
     "output_type": "stream",
     "text": [
      "<class 'pandas.core.frame.DataFrame'>\n",
      "RangeIndex: 1296675 entries, 0 to 1296674\n",
      "Data columns (total 22 columns):\n",
      " #   Column                 Non-Null Count    Dtype   \n",
      "---  ------                 --------------    -----   \n",
      " 0   trans_date_trans_time  1296675 non-null  object  \n",
      " 1   cc_num                 1296675 non-null  int64   \n",
      " 2   merchant               1296675 non-null  object  \n",
      " 3   category               1296675 non-null  category\n",
      " 4   amt                    1296675 non-null  float64 \n",
      " 5   first                  1296675 non-null  object  \n",
      " 6   last                   1296675 non-null  object  \n",
      " 7   gender                 1296675 non-null  category\n",
      " 8   street                 1296675 non-null  object  \n",
      " 9   city                   1296675 non-null  object  \n",
      " 10  state                  1296675 non-null  category\n",
      " 11  zip                    1296675 non-null  int64   \n",
      " 12  lat                    1296675 non-null  float64 \n",
      " 13  long                   1296675 non-null  float64 \n",
      " 14  city_pop               1296675 non-null  int64   \n",
      " 15  job                    1296675 non-null  object  \n",
      " 16  dob                    1296675 non-null  object  \n",
      " 17  trans_num              1296675 non-null  object  \n",
      " 18  unix_time              1296675 non-null  int64   \n",
      " 19  merch_lat              1296675 non-null  float64 \n",
      " 20  merch_long             1296675 non-null  float64 \n",
      " 21  is_fraud               1296675 non-null  category\n",
      "dtypes: category(4), float64(5), int64(4), object(9)\n",
      "memory usage: 183.0+ MB\n"
     ]
    }
   ],
   "source": [
    "df.info()"
   ]
  },
  {
   "cell_type": "code",
   "execution_count": 12,
   "metadata": {},
   "outputs": [
    {
     "data": {
      "text/html": [
       "<div>\n",
       "<style scoped>\n",
       "    .dataframe tbody tr th:only-of-type {\n",
       "        vertical-align: middle;\n",
       "    }\n",
       "\n",
       "    .dataframe tbody tr th {\n",
       "        vertical-align: top;\n",
       "    }\n",
       "\n",
       "    .dataframe thead th {\n",
       "        text-align: right;\n",
       "    }\n",
       "</style>\n",
       "<table border=\"1\" class=\"dataframe\">\n",
       "  <thead>\n",
       "    <tr style=\"text-align: right;\">\n",
       "      <th></th>\n",
       "      <th>cc_num</th>\n",
       "      <th>amt</th>\n",
       "      <th>zip</th>\n",
       "      <th>lat</th>\n",
       "      <th>long</th>\n",
       "      <th>city_pop</th>\n",
       "      <th>unix_time</th>\n",
       "      <th>merch_lat</th>\n",
       "      <th>merch_long</th>\n",
       "    </tr>\n",
       "  </thead>\n",
       "  <tbody>\n",
       "    <tr>\n",
       "      <th>count</th>\n",
       "      <td>1296675.00000</td>\n",
       "      <td>1296675.00000</td>\n",
       "      <td>1296675.00000</td>\n",
       "      <td>1296675.00000</td>\n",
       "      <td>1296675.00000</td>\n",
       "      <td>1296675.00000</td>\n",
       "      <td>1296675.00000</td>\n",
       "      <td>1296675.00000</td>\n",
       "      <td>1296675.00000</td>\n",
       "    </tr>\n",
       "    <tr>\n",
       "      <th>mean</th>\n",
       "      <td>417192042079726656.00000</td>\n",
       "      <td>70.35104</td>\n",
       "      <td>48800.67110</td>\n",
       "      <td>38.53762</td>\n",
       "      <td>-90.22634</td>\n",
       "      <td>88824.44056</td>\n",
       "      <td>1349243636.72612</td>\n",
       "      <td>38.53734</td>\n",
       "      <td>-90.22646</td>\n",
       "    </tr>\n",
       "    <tr>\n",
       "      <th>std</th>\n",
       "      <td>1308806447000240384.00000</td>\n",
       "      <td>160.31604</td>\n",
       "      <td>26893.22248</td>\n",
       "      <td>5.07581</td>\n",
       "      <td>13.75908</td>\n",
       "      <td>301956.36069</td>\n",
       "      <td>12841278.42336</td>\n",
       "      <td>5.10979</td>\n",
       "      <td>13.77109</td>\n",
       "    </tr>\n",
       "    <tr>\n",
       "      <th>min</th>\n",
       "      <td>60416207185.00000</td>\n",
       "      <td>1.00000</td>\n",
       "      <td>1257.00000</td>\n",
       "      <td>20.02710</td>\n",
       "      <td>-165.67230</td>\n",
       "      <td>23.00000</td>\n",
       "      <td>1325376018.00000</td>\n",
       "      <td>19.02779</td>\n",
       "      <td>-166.67124</td>\n",
       "    </tr>\n",
       "    <tr>\n",
       "      <th>25%</th>\n",
       "      <td>180042946491150.00000</td>\n",
       "      <td>9.65000</td>\n",
       "      <td>26237.00000</td>\n",
       "      <td>34.62050</td>\n",
       "      <td>-96.79800</td>\n",
       "      <td>743.00000</td>\n",
       "      <td>1338750742.50000</td>\n",
       "      <td>34.73357</td>\n",
       "      <td>-96.89728</td>\n",
       "    </tr>\n",
       "    <tr>\n",
       "      <th>50%</th>\n",
       "      <td>3521417320836166.00000</td>\n",
       "      <td>47.52000</td>\n",
       "      <td>48174.00000</td>\n",
       "      <td>39.35430</td>\n",
       "      <td>-87.47690</td>\n",
       "      <td>2456.00000</td>\n",
       "      <td>1349249747.00000</td>\n",
       "      <td>39.36568</td>\n",
       "      <td>-87.43839</td>\n",
       "    </tr>\n",
       "    <tr>\n",
       "      <th>75%</th>\n",
       "      <td>4642255475285942.00000</td>\n",
       "      <td>83.14000</td>\n",
       "      <td>72042.00000</td>\n",
       "      <td>41.94040</td>\n",
       "      <td>-80.15800</td>\n",
       "      <td>20328.00000</td>\n",
       "      <td>1359385375.50000</td>\n",
       "      <td>41.95716</td>\n",
       "      <td>-80.23680</td>\n",
       "    </tr>\n",
       "    <tr>\n",
       "      <th>max</th>\n",
       "      <td>4992346398065154048.00000</td>\n",
       "      <td>28948.90000</td>\n",
       "      <td>99783.00000</td>\n",
       "      <td>66.69330</td>\n",
       "      <td>-67.95030</td>\n",
       "      <td>2906700.00000</td>\n",
       "      <td>1371816817.00000</td>\n",
       "      <td>67.51027</td>\n",
       "      <td>-66.95090</td>\n",
       "    </tr>\n",
       "  </tbody>\n",
       "</table>\n",
       "</div>"
      ],
      "text/plain": [
       "                         cc_num           amt           zip           lat  \\\n",
       "count             1296675.00000 1296675.00000 1296675.00000 1296675.00000   \n",
       "mean   417192042079726656.00000      70.35104   48800.67110      38.53762   \n",
       "std   1308806447000240384.00000     160.31604   26893.22248       5.07581   \n",
       "min           60416207185.00000       1.00000    1257.00000      20.02710   \n",
       "25%       180042946491150.00000       9.65000   26237.00000      34.62050   \n",
       "50%      3521417320836166.00000      47.52000   48174.00000      39.35430   \n",
       "75%      4642255475285942.00000      83.14000   72042.00000      41.94040   \n",
       "max   4992346398065154048.00000   28948.90000   99783.00000      66.69330   \n",
       "\n",
       "               long      city_pop        unix_time     merch_lat    merch_long  \n",
       "count 1296675.00000 1296675.00000    1296675.00000 1296675.00000 1296675.00000  \n",
       "mean      -90.22634   88824.44056 1349243636.72612      38.53734     -90.22646  \n",
       "std        13.75908  301956.36069   12841278.42336       5.10979      13.77109  \n",
       "min      -165.67230      23.00000 1325376018.00000      19.02779    -166.67124  \n",
       "25%       -96.79800     743.00000 1338750742.50000      34.73357     -96.89728  \n",
       "50%       -87.47690    2456.00000 1349249747.00000      39.36568     -87.43839  \n",
       "75%       -80.15800   20328.00000 1359385375.50000      41.95716     -80.23680  \n",
       "max       -67.95030 2906700.00000 1371816817.00000      67.51027     -66.95090  "
      ]
     },
     "execution_count": 12,
     "metadata": {},
     "output_type": "execute_result"
    }
   ],
   "source": [
    "df.describe()"
   ]
  },
  {
   "cell_type": "code",
   "execution_count": 13,
   "metadata": {},
   "outputs": [
    {
     "name": "stdout",
     "output_type": "stream",
     "text": [
      "2012-01-01 00:00:18\n"
     ]
    },
    {
     "name": "stderr",
     "output_type": "stream",
     "text": [
      "C:\\Users\\91959\\AppData\\Local\\Temp\\ipykernel_21840\\2691530111.py:1: DeprecationWarning: datetime.datetime.utcfromtimestamp() is deprecated and scheduled for removal in a future version. Use timezone-aware objects to represent datetimes in UTC: datetime.datetime.fromtimestamp(timestamp, datetime.UTC).\n",
      "  print(datetime.utcfromtimestamp(1325376018).strftime('%Y-%m-%d %H:%M:%S'))\n"
     ]
    }
   ],
   "source": [
    "print(datetime.utcfromtimestamp(1325376018).strftime('%Y-%m-%d %H:%M:%S'))"
   ]
  },
  {
   "cell_type": "code",
   "execution_count": null,
   "metadata": {},
   "outputs": [],
   "source": []
  },
  {
   "cell_type": "code",
   "execution_count": null,
   "metadata": {},
   "outputs": [],
   "source": []
  },
  {
   "cell_type": "code",
   "execution_count": null,
   "metadata": {},
   "outputs": [],
   "source": []
  },
  {
   "cell_type": "code",
   "execution_count": null,
   "metadata": {},
   "outputs": [],
   "source": []
  },
  {
   "cell_type": "code",
   "execution_count": null,
   "metadata": {},
   "outputs": [],
   "source": []
  },
  {
   "cell_type": "code",
   "execution_count": null,
   "metadata": {},
   "outputs": [],
   "source": []
  },
  {
   "cell_type": "code",
   "execution_count": null,
   "metadata": {},
   "outputs": [],
   "source": []
  },
  {
   "cell_type": "code",
   "execution_count": null,
   "metadata": {},
   "outputs": [],
   "source": []
  },
  {
   "cell_type": "code",
   "execution_count": null,
   "metadata": {},
   "outputs": [],
   "source": []
  },
  {
   "cell_type": "code",
   "execution_count": null,
   "metadata": {},
   "outputs": [],
   "source": []
  },
  {
   "cell_type": "code",
   "execution_count": null,
   "metadata": {},
   "outputs": [],
   "source": []
  }
 ],
 "metadata": {
  "kernelspec": {
   "display_name": "Python 3",
   "language": "python",
   "name": "python3"
  },
  "language_info": {
   "codemirror_mode": {
    "name": "ipython",
    "version": 3
   },
   "file_extension": ".py",
   "mimetype": "text/x-python",
   "name": "python",
   "nbconvert_exporter": "python",
   "pygments_lexer": "ipython3",
   "version": "3.12.0"
  }
 },
 "nbformat": 4,
 "nbformat_minor": 2
}
